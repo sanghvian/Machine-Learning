{
  "nbformat": 4,
  "nbformat_minor": 0,
  "metadata": {
    "colab": {
      "name": "tensorflow_fundamentals.ipynb",
      "provenance": [],
      "collapsed_sections": [],
      "authorship_tag": "ABX9TyOSuUFHYsP27adKGgpktI+N",
      "include_colab_link": true
    },
    "kernelspec": {
      "name": "python3",
      "display_name": "Python 3"
    },
    "language_info": {
      "name": "python"
    }
  },
  "cells": [
    {
      "cell_type": "markdown",
      "metadata": {
        "id": "view-in-github",
        "colab_type": "text"
      },
      "source": [
        "<a href=\"https://colab.research.google.com/github/crew-guy/Machine-Learning/blob/main/tensorflow/tensorflow_fundamentals.ipynb\" target=\"_parent\"><img src=\"https://colab.research.google.com/assets/colab-badge.svg\" alt=\"Open In Colab\"/></a>"
      ]
    },
    {
      "cell_type": "markdown",
      "source": [
        "## In this notebook, we'll be covering\n",
        "\n",
        "\n",
        "1. Intro to tensors\n",
        "2. Getting info from tensors\n",
        "3. Manipulating tensors\n",
        "4. Tensors & numpy\n",
        "5. Using @tf.function (speed up python functions)\n",
        "6. Using GPUs with TF (or TPUs)"
      ],
      "metadata": {
        "id": "vZMkHaJdgECr"
      }
    },
    {
      "cell_type": "markdown",
      "source": [
        "# Introduction to tensors"
      ],
      "metadata": {
        "id": "QyF6KaZZgo8n"
      }
    },
    {
      "cell_type": "code",
      "source": [
        "import tensorflow as tf\n",
        "print(tf.__version__)"
      ],
      "metadata": {
        "colab": {
          "base_uri": "https://localhost:8080/"
        },
        "id": "YbN2FtTegvDx",
        "outputId": "de6876a1-dd35-46cb-e19e-de7a222f6d1d"
      },
      "execution_count": 1,
      "outputs": [
        {
          "output_type": "stream",
          "name": "stdout",
          "text": [
            "2.8.2\n"
          ]
        }
      ]
    },
    {
      "cell_type": "code",
      "source": [
        "# Create tensor with tf.constant()\n",
        "# Scalar : tensor of 0th dimension\n",
        "scalar = tf.constant(7)\n",
        "scalar  "
      ],
      "metadata": {
        "colab": {
          "base_uri": "https://localhost:8080/"
        },
        "id": "HWOmS8Wtg1YX",
        "outputId": "168e440f-bf0e-4218-ccb0-1214c5f5fe5d"
      },
      "execution_count": 2,
      "outputs": [
        {
          "output_type": "execute_result",
          "data": {
            "text/plain": [
              "<tf.Tensor: shape=(), dtype=int32, numpy=7>"
            ]
          },
          "metadata": {},
          "execution_count": 2
        }
      ]
    },
    {
      "cell_type": "code",
      "source": [
        "scalar.ndim\n"
      ],
      "metadata": {
        "id": "7gdN7XfvhNoZ",
        "colab": {
          "base_uri": "https://localhost:8080/"
        },
        "outputId": "9b5c0439-2131-425c-aaf3-55fab741b363"
      },
      "execution_count": 3,
      "outputs": [
        {
          "output_type": "execute_result",
          "data": {
            "text/plain": [
              "0"
            ]
          },
          "metadata": {},
          "execution_count": 3
        }
      ]
    },
    {
      "cell_type": "code",
      "source": [
        "# Vector : tensor with 1-dimension\n",
        "vector = tf.constant([10, 10])\n",
        "vector\n",
        "vector.ndim"
      ],
      "metadata": {
        "colab": {
          "base_uri": "https://localhost:8080/"
        },
        "id": "1Df6Dr8P6Nir",
        "outputId": "ce664753-ebac-4600-f72d-8becf8ee2d67"
      },
      "execution_count": 4,
      "outputs": [
        {
          "output_type": "execute_result",
          "data": {
            "text/plain": [
              "1"
            ]
          },
          "metadata": {},
          "execution_count": 4
        }
      ]
    },
    {
      "cell_type": "code",
      "source": [
        "# Matrix : tensor with 2-dimensions\n",
        "matrix = tf.constant([\n",
        "                      [1,2],\n",
        "                      [3,4]\n",
        "])\n",
        "matrix\n",
        "matrix.ndim"
      ],
      "metadata": {
        "colab": {
          "base_uri": "https://localhost:8080/"
        },
        "id": "V2-YhYmt6Vcc",
        "outputId": "67581c86-530c-4bfe-f822-98b8c47afb29"
      },
      "execution_count": 5,
      "outputs": [
        {
          "output_type": "execute_result",
          "data": {
            "text/plain": [
              "2"
            ]
          },
          "metadata": {},
          "execution_count": 5
        }
      ]
    },
    {
      "cell_type": "code",
      "source": [
        "tensor = tf.constant(\n",
        "    [\n",
        "     [\n",
        "      [1,2,3],\n",
        "      [4,5,6]\n",
        "     ],\n",
        "     [\n",
        "      [7,8,9],\n",
        "      [10,11,12]\n",
        "     ]\n",
        "    ]\n",
        ")\n",
        "tensor\n",
        "tensor.ndim"
      ],
      "metadata": {
        "colab": {
          "base_uri": "https://localhost:8080/"
        },
        "id": "nj2-dQyN6dU5",
        "outputId": "c060d2ba-2e93-4188-f007-c04c3361f634"
      },
      "execution_count": 7,
      "outputs": [
        {
          "output_type": "execute_result",
          "data": {
            "text/plain": [
              "3"
            ]
          },
          "metadata": {},
          "execution_count": 7
        }
      ]
    },
    {
      "cell_type": "code",
      "source": [
        "another_matrix = tf.constant(\n",
        "    [[1.,2.,3.],[4.,5.,6.]],\n",
        "    dtype=tf.float16\n",
        ")\n",
        "another_matrix"
      ],
      "metadata": {
        "colab": {
          "base_uri": "https://localhost:8080/"
        },
        "id": "qHjIFlX06n_j",
        "outputId": "cce8438c-118a-45f9-b1f6-88f763e0585f"
      },
      "execution_count": 10,
      "outputs": [
        {
          "output_type": "execute_result",
          "data": {
            "text/plain": [
              "<tf.Tensor: shape=(2, 3), dtype=float16, numpy=\n",
              "array([[1., 2., 3.],\n",
              "       [4., 5., 6.]], dtype=float16)>"
            ]
          },
          "metadata": {},
          "execution_count": 10
        }
      ]
    },
    {
      "cell_type": "markdown",
      "source": [
        "## Creating tensors with tf variable"
      ],
      "metadata": {
        "id": "L6-ToXzx611R"
      }
    },
    {
      "cell_type": "code",
      "source": [
        "# Create the same tensor with tf.Variable()\n",
        "changeable_tensor = tf.Variable([10,7])\n",
        "unchangeable_tensor = tf.constant([10,7])\n",
        "changeable_tensor[0].assign(7)\n",
        "changeable_tensor\n",
        "\n",
        "# Can't change an unchangeable tensor with assignment "
      ],
      "metadata": {
        "colab": {
          "base_uri": "https://localhost:8080/"
        },
        "id": "vdsH7zS17PpT",
        "outputId": "600f048e-fa40-41e5-bd4d-826395bf04a4"
      },
      "execution_count": 11,
      "outputs": [
        {
          "output_type": "execute_result",
          "data": {
            "text/plain": [
              "<tf.Variable 'Variable:0' shape=(2,) dtype=int32, numpy=array([7, 7], dtype=int32)>"
            ]
          },
          "metadata": {},
          "execution_count": 11
        }
      ]
    },
    {
      "cell_type": "markdown",
      "source": [
        "<hr/>\n",
        "\n",
        "🔑 **Note** : Rarely in practice, we decide, whether to use `tf.constant()` or `tf.Variable`, as Tensorflow does this for use. However, if in doubt, use `tf.constant` and change it later"
      ],
      "metadata": {
        "id": "q-V3llZ47z9G"
      }
    },
    {
      "cell_type": "markdown",
      "source": [
        "<hr/>\n",
        "\n",
        "## Creating random tensors\n",
        "\n",
        "Random tensors are tensors of some arbitrary size which contain random numbers"
      ],
      "metadata": {
        "id": "mKGGOeLi8I6U"
      }
    },
    {
      "cell_type": "code",
      "source": [
        "# Create 2 random (but the same) tensors\n",
        "random_1 = tf.random.Generator.from_seed(42) #set seed for reproducability\n",
        "random_1 = random_1.normal(shape=(3,2))\n",
        "\n",
        "random_2 = tf.random.Generator.from_seed(42)\n",
        "random_2 = random_2.normal(shape=(3,2))\n",
        "\n",
        "# Are they equal ?\n",
        "random_1, random_2, random_1 == random_2\n"
      ],
      "metadata": {
        "colab": {
          "base_uri": "https://localhost:8080/"
        },
        "id": "6KoYeRah8sAj",
        "outputId": "00a35e6f-20f3-4a17-f789-ebf01ee4700f"
      },
      "execution_count": 13,
      "outputs": [
        {
          "output_type": "execute_result",
          "data": {
            "text/plain": [
              "(<tf.Tensor: shape=(3, 2), dtype=float32, numpy=\n",
              " array([[-0.7565803 , -0.06854702],\n",
              "        [ 0.07595026, -1.2573844 ],\n",
              "        [-0.23193763, -1.8107855 ]], dtype=float32)>,\n",
              " <tf.Tensor: shape=(3, 2), dtype=float32, numpy=\n",
              " array([[-0.7565803 , -0.06854702],\n",
              "        [ 0.07595026, -1.2573844 ],\n",
              "        [-0.23193763, -1.8107855 ]], dtype=float32)>,\n",
              " <tf.Tensor: shape=(3, 2), dtype=bool, numpy=\n",
              " array([[ True,  True],\n",
              "        [ True,  True],\n",
              "        [ True,  True]])>)"
            ]
          },
          "metadata": {},
          "execution_count": 13
        }
      ]
    },
    {
      "cell_type": "markdown",
      "source": [
        "<hr/>\n",
        "\n",
        "### Shuffle the order of tensors\n",
        "\n",
        "Shuffle data so the inherent order of data doesn't affect learning\n"
      ],
      "metadata": {
        "id": "ekR0OueE9Qrs"
      }
    },
    {
      "cell_type": "code",
      "source": [
        "not_shuffled  = tf.constant([[10,7,3], [2,4,5]])\n",
        "not_shuffled "
      ],
      "metadata": {
        "colab": {
          "base_uri": "https://localhost:8080/"
        },
        "id": "Pvs2nOsM-GtT",
        "outputId": "3d1e94ad-8018-4528-c387-8268562de1ee"
      },
      "execution_count": 15,
      "outputs": [
        {
          "output_type": "execute_result",
          "data": {
            "text/plain": [
              "<tf.Tensor: shape=(2, 3), dtype=int32, numpy=\n",
              "array([[10,  7,  3],\n",
              "       [ 2,  4,  5]], dtype=int32)>"
            ]
          },
          "metadata": {},
          "execution_count": 15
        }
      ]
    },
    {
      "cell_type": "code",
      "source": [
        "# tf.random.set_seed(42) #global level random seed\n",
        "shuffled = tf.random.shuffle(not_shuffled, seed=42) # operation level random seed\n",
        "shuffled"
      ],
      "metadata": {
        "colab": {
          "base_uri": "https://localhost:8080/"
        },
        "id": "ZM_ZuzmE-_Dc",
        "outputId": "64fc53bf-c75a-4b8e-dde2-a57ed8cf1a4d"
      },
      "execution_count": 22,
      "outputs": [
        {
          "output_type": "execute_result",
          "data": {
            "text/plain": [
              "<tf.Tensor: shape=(2, 3), dtype=int32, numpy=\n",
              "array([[10,  7,  3],\n",
              "       [ 2,  4,  5]], dtype=int32)>"
            ]
          },
          "metadata": {},
          "execution_count": 22
        }
      ]
    },
    {
      "cell_type": "markdown",
      "source": [
        "🛠 **Read** - Global & operation level seed - [Link](https://www.tensorflow.org/api_docs/python/tf/random/set_seed)\n",
        "\n",
        "If we want our shuffled tensors to be in the same order, we've got to use the global level random seed as well as the operation level random seed\n",
        "\n",
        "> Rule 4 : If both global & the operation seed are set : Both seeds are use in conjunction to determine the random sequence\n",
        "\n",
        "Because a NN initialized itself with random patterns, you could get different results, everytime you run this experiment. So, to make reproducible experiments, you probably want to initialize your data in a similar fashion each time"
      ],
      "metadata": {
        "id": "joDC0uI-_LiH"
      }
    },
    {
      "cell_type": "markdown",
      "source": [
        "### Other ways to make tensors"
      ],
      "metadata": {
        "id": "HLZ_-ajX_g7U"
      }
    },
    {
      "cell_type": "code",
      "source": [
        "# Create a tensor with all ones\n",
        "tf.ones(shape=(10,7))"
      ],
      "metadata": {
        "colab": {
          "base_uri": "https://localhost:8080/"
        },
        "id": "GKU0qnTpAtxq",
        "outputId": "fd0f3148-fafd-4c24-fd29-01dd68a1d421"
      },
      "execution_count": 23,
      "outputs": [
        {
          "output_type": "execute_result",
          "data": {
            "text/plain": [
              "<tf.Tensor: shape=(10, 7), dtype=float32, numpy=\n",
              "array([[1., 1., 1., 1., 1., 1., 1.],\n",
              "       [1., 1., 1., 1., 1., 1., 1.],\n",
              "       [1., 1., 1., 1., 1., 1., 1.],\n",
              "       [1., 1., 1., 1., 1., 1., 1.],\n",
              "       [1., 1., 1., 1., 1., 1., 1.],\n",
              "       [1., 1., 1., 1., 1., 1., 1.],\n",
              "       [1., 1., 1., 1., 1., 1., 1.],\n",
              "       [1., 1., 1., 1., 1., 1., 1.],\n",
              "       [1., 1., 1., 1., 1., 1., 1.],\n",
              "       [1., 1., 1., 1., 1., 1., 1.]], dtype=float32)>"
            ]
          },
          "metadata": {},
          "execution_count": 23
        }
      ]
    },
    {
      "cell_type": "code",
      "source": [
        "tf.zeros(shape=(2,3))"
      ],
      "metadata": {
        "colab": {
          "base_uri": "https://localhost:8080/"
        },
        "id": "PDaBpRn7AxBv",
        "outputId": "e8bfd118-9661-40fb-861c-d443f7b1a019"
      },
      "execution_count": 24,
      "outputs": [
        {
          "output_type": "execute_result",
          "data": {
            "text/plain": [
              "<tf.Tensor: shape=(2, 3), dtype=float32, numpy=\n",
              "array([[0., 0., 0.],\n",
              "       [0., 0., 0.]], dtype=float32)>"
            ]
          },
          "metadata": {},
          "execution_count": 24
        }
      ]
    },
    {
      "cell_type": "markdown",
      "source": [
        "### Turn NumPy arrays into tensors\n",
        "The main difference between a NumPy array & Tensorflow tensors is that tensors can be run on a GPU (much faster for numeric computing)"
      ],
      "metadata": {
        "id": "z2C5TIcLAzQd"
      }
    },
    {
      "cell_type": "code",
      "source": [
        "import numpy as np\n",
        "numpy_A = np.arange(1,25, dtype=np.int32)\n",
        "numpy_A"
      ],
      "metadata": {
        "colab": {
          "base_uri": "https://localhost:8080/"
        },
        "id": "nq1GxdVLBK3g",
        "outputId": "37719e01-9c6c-4c1f-b18b-600b09104990"
      },
      "execution_count": 29,
      "outputs": [
        {
          "output_type": "execute_result",
          "data": {
            "text/plain": [
              "array([ 1,  2,  3,  4,  5,  6,  7,  8,  9, 10, 11, 12, 13, 14, 15, 16, 17,\n",
              "       18, 19, 20, 21, 22, 23, 24], dtype=int32)"
            ]
          },
          "metadata": {},
          "execution_count": 29
        }
      ]
    },
    {
      "cell_type": "code",
      "source": [
        "A = tf.constant(numpy_A)\n",
        "B = tf.constant(numpy_A, shape=(2,3,4))\n",
        "A, B"
      ],
      "metadata": {
        "colab": {
          "base_uri": "https://localhost:8080/"
        },
        "id": "g2n6Qy5sBTFB",
        "outputId": "55a596b3-51d6-49d3-e094-d904745c1fc1"
      },
      "execution_count": 31,
      "outputs": [
        {
          "output_type": "execute_result",
          "data": {
            "text/plain": [
              "(<tf.Tensor: shape=(24,), dtype=int32, numpy=\n",
              " array([ 1,  2,  3,  4,  5,  6,  7,  8,  9, 10, 11, 12, 13, 14, 15, 16, 17,\n",
              "        18, 19, 20, 21, 22, 23, 24], dtype=int32)>,\n",
              " <tf.Tensor: shape=(2, 3, 4), dtype=int32, numpy=\n",
              " array([[[ 1,  2,  3,  4],\n",
              "         [ 5,  6,  7,  8],\n",
              "         [ 9, 10, 11, 12]],\n",
              " \n",
              "        [[13, 14, 15, 16],\n",
              "         [17, 18, 19, 20],\n",
              "         [21, 22, 23, 24]]], dtype=int32)>)"
            ]
          },
          "metadata": {},
          "execution_count": 31
        }
      ]
    },
    {
      "cell_type": "markdown",
      "source": [
        "💡 **Note** : We usually use capital letters for variables storing matrices & lowercase letters for variables storing vectors"
      ],
      "metadata": {
        "id": "qSR0oDnIBjwT"
      }
    },
    {
      "cell_type": "markdown",
      "source": [
        "### Getting information from tensors\n",
        "\n"
      ],
      "metadata": {
        "id": "9eb7t4bOCBti"
      }
    },
    {
      "cell_type": "code",
      "source": [
        ""
      ],
      "metadata": {
        "id": "F0CKdULwCNdE"
      },
      "execution_count": null,
      "outputs": []
    }
  ]
}